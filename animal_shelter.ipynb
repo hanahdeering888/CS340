{
 "cells": [
  {
   "cell_type": "code",
   "execution_count": 1,
   "metadata": {},
   "outputs": [],
   "source": [
    "from pymongo import MongoClient\n",
    "from bson.objectid import ObjectId\n",
    "\n",
    "class animal_shelter(object):\n",
    "    \"\"\" CRUD operations for Animal collection in MongoDB \"\"\"\n",
    "\n",
    "    def __init__(self, username, password):\n",
    "        # Initializing the MongoClient. This helps to \n",
    "        # access the MongoDB databases and collections.\n",
    "\n",
    "        self.client = MongoClient('mongodb://localhost:56377/AAC' % (username,password))\n",
    "        self.database = self.client['AAC']\n",
    "\n",
    "\n",
    "# Complete this create method to implement the C in CRUD.(create)\n",
    "    def create(self, data):\n",
    "        if data is not None:\n",
    "            self.database.animals.insert(data)\n",
    "            return True# data should be dictionary            \n",
    "        else:\n",
    "            raise Exception(\"Nothing to save, because data parameter is empty\")\n",
    "\n",
    "# Create method to implement the R in CRUD.(read)\n",
    "    def read_all(self,data=None):\n",
    "        if data:\n",
    "            cursor = self.database.animals.find(data,{\"_id\": False})\n",
    "        else:\n",
    "            cursor = self.database.animals.find({},{\"_id\": False})\n",
    "        return cursor\n",
    "\n",
    "    def read(self,data):\n",
    "        return self.database.animals.find_one(data, {\"_id\": False})\n",
    "    \n",
    "#Method to implement the U in CRUD (update)\n",
    "    def update_one(self):\n",
    "        query = {\"animal_id\": \"B000001\"}\n",
    "        value = {\"$set\": {\"animal_id\": \"B000003\"}}\n",
    "        return self.collection.update_one(query,value)\n",
    "    #update many\n",
    "    def update_many(self):\n",
    "        cursor = self.database.animals.update_many({\"animal_id\": \"B000001\"},{\"$set\":{\"animal_id\": \"B000003\"}})\n",
    "        return cursor\n",
    "\n",
    "\n",
    "#Method to implement the D in CRUD (delete)\n",
    "    #delete one\n",
    "    def delete_one(self):\n",
    "        return self.database.animals.delete_one({\"animal_id\": \"B000003\"})\n",
    "    #delete many\n",
    "    def delete_many(self):\n",
    "        cursor = self.database.animals.delete_many({\"animal_id\": \"B000003\"})\n",
    "        return cursor\n",
    "        "
   ]
  },
  {
   "cell_type": "code",
   "execution_count": null,
   "metadata": {},
   "outputs": [],
   "source": []
  },
  {
   "cell_type": "code",
   "execution_count": null,
   "metadata": {},
   "outputs": [],
   "source": []
  }
 ],
 "metadata": {
  "kernelspec": {
   "display_name": "Python 3",
   "language": "python",
   "name": "python3"
  },
  "language_info": {
   "codemirror_mode": {
    "name": "ipython",
    "version": 3
   },
   "file_extension": ".py",
   "mimetype": "text/x-python",
   "name": "python",
   "nbconvert_exporter": "python",
   "pygments_lexer": "ipython3",
   "version": "3.6.9"
  }
 },
 "nbformat": 4,
 "nbformat_minor": 2
}
